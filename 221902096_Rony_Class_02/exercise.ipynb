{
 "cells": [
  {
   "cell_type": "code",
   "execution_count": null,
   "metadata": {
    "colab": {
     "base_uri": "https://localhost:8080/"
    },
    "executionInfo": {
     "elapsed": 4973,
     "status": "ok",
     "timestamp": 1729508554408,
     "user": {
      "displayName": "Rony Hassan",
      "userId": "14772305167910313950"
     },
     "user_tz": -360
    },
    "id": "YkQVu79Ru-67",
    "outputId": "2109dfea-1367-4f08-b263-bc870e04e5b9"
   },
   "outputs": [
    {
     "name": "stdout",
     "output_type": "stream",
     "text": [
      "Enter the radius: 2\n",
      "The area of circle is:  12.56\n"
     ]
    }
   ],
   "source": [
    "PI = 3.14\n",
    "radius = int(input(\"Enter the radius: \"))\n",
    "area = PI * (radius ** 2)\n",
    "print(\"The area of circle is: \", area)"
   ]
  },
  {
   "cell_type": "code",
   "execution_count": 6,
   "metadata": {
    "colab": {
     "base_uri": "https://localhost:8080/"
    },
    "executionInfo": {
     "elapsed": 433,
     "status": "ok",
     "timestamp": 1729508980923,
     "user": {
      "displayName": "Rony Hassan",
      "userId": "14772305167910313950"
     },
     "user_tz": -360
    },
    "id": "x4-cmi6Nvp-c",
    "outputId": "ca234c78-d83e-4c31-f752-6fe9df181c1e"
   },
   "outputs": [
    {
     "name": "stdout",
     "output_type": "stream",
     "text": [
      "a:  20 b:  10\n"
     ]
    }
   ],
   "source": [
    "a = 10\n",
    "b = 20\n",
    "\n",
    "a,b = b,a\n",
    "\n",
    "\n",
    "print(\"a: \",a,\"b: \",b)"
   ]
  },
  {
   "cell_type": "code",
   "execution_count": 7,
   "metadata": {
    "colab": {
     "base_uri": "https://localhost:8080/"
    },
    "executionInfo": {
     "elapsed": 23300,
     "status": "ok",
     "timestamp": 1729509052180,
     "user": {
      "displayName": "Rony Hassan",
      "userId": "14772305167910313950"
     },
     "user_tz": -360
    },
    "id": "lgzjlUHowI7i",
    "outputId": "7ae0ea12-9291-4edc-8ed2-1f814285d82d"
   },
   "outputs": [
    {
     "name": "stdout",
     "output_type": "stream",
     "text": [
      "Enter the value of Principal: 5\n",
      "Enter the Rate: 2\n",
      "Enter the Time: 20\n",
      "2.0\n"
     ]
    }
   ],
   "source": [
    "principal = int(input(\"Enter the value of Principal: \"))\n",
    "rate = int(input(\"Enter the Rate: \"))\n",
    "time = int(input(\"Enter the Time: \"))\n",
    "interest = (principal * rate * time) / 100\n",
    "print(interest)"
   ]
  },
  {
   "cell_type": "code",
   "execution_count": 8,
   "metadata": {
    "colab": {
     "base_uri": "https://localhost:8080/"
    },
    "executionInfo": {
     "elapsed": 480,
     "status": "ok",
     "timestamp": 1729509116068,
     "user": {
      "displayName": "Rony Hassan",
      "userId": "14772305167910313950"
     },
     "user_tz": -360
    },
    "id": "vKEqkIvTxek8",
    "outputId": "1fc2af45-b9f0-4f47-dd3c-5c98c4534b31"
   },
   "outputs": [
    {
     "name": "stdout",
     "output_type": "stream",
     "text": [
      "98.6\n"
     ]
    }
   ],
   "source": [
    "celsius = 37\n",
    "fahrenheit = (celsius * 9 / 5) + 32\n",
    "print(fahrenheit)"
   ]
  },
  {
   "cell_type": "code",
   "execution_count": 14,
   "metadata": {
    "colab": {
     "base_uri": "https://localhost:8080/"
    },
    "executionInfo": {
     "elapsed": 409,
     "status": "ok",
     "timestamp": 1729509441356,
     "user": {
      "displayName": "Rony Hassan",
      "userId": "14772305167910313950"
     },
     "user_tz": -360
    },
    "id": "AHchQTIHxuNH",
    "outputId": "2b1d3d68-84fd-4b2e-ad4b-7c3502cd0297"
   },
   "outputs": [
    {
     "name": "stdout",
     "output_type": "stream",
     "text": [
      "Area:  6\n",
      "Perimeter:  10\n"
     ]
    }
   ],
   "source": [
    "length = 2\n",
    "width = 3\n",
    "area = length * width\n",
    "perimeter = 2 * ( length+ width )\n",
    "print(\"Area: \",area)\n",
    "print(\"Perimeter: \",perimeter)"
   ]
  },
  {
   "cell_type": "code",
   "execution_count": 15,
   "metadata": {
    "colab": {
     "base_uri": "https://localhost:8080/"
    },
    "executionInfo": {
     "elapsed": 389,
     "status": "ok",
     "timestamp": 1729512837960,
     "user": {
      "displayName": "Rony Hassan",
      "userId": "14772305167910313950"
     },
     "user_tz": -360
    },
    "id": "cWmocZWc_bgC",
    "outputId": "dbbfedb9-7d34-4898-86a6-722aba0d9ff4"
   },
   "outputs": [
    {
     "name": "stdout",
     "output_type": "stream",
     "text": [
      "How are you Mr, David. You are invited to come to my home on Monday. David don't miss the chance\n"
     ]
    }
   ],
   "source": [
    "noun = 'David'\n",
    "day = 'Monday'\n",
    "\n",
    "str = f'''How are you Mr, {noun}. You are invited to come to my home on {day}. {noun} don't miss the chance'''\n",
    "print(str)"
   ]
  }
 ],
 "metadata": {
  "colab": {
   "authorship_tag": "ABX9TyOjkbvHv3PmWYLTMav5D4KD",
   "provenance": []
  },
  "kernelspec": {
   "display_name": "Python 3",
   "name": "python3"
  },
  "language_info": {
   "name": "python"
  }
 },
 "nbformat": 4,
 "nbformat_minor": 0
}
